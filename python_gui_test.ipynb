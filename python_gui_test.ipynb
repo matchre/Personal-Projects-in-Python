{
 "cells": [
  {
   "cell_type": "code",
   "execution_count": 2,
   "metadata": {
    "collapsed": false
   },
   "outputs": [],
   "source": [
    "import simplegui\n",
    "\n",
    "g = simplegui.GUI()\n",
    "def buttoncallback():\n",
    "    g.status(\"Button Clicked!\")\n",
    "g.button(\"Click me!\", buttoncallback)\n",
    "g.button(\"Click me too!\", buttoncallback)\n",
    "def listboxcallback(text):\n",
    "    g.status(\"listbox select: '{0}'\".format(text))\n",
    "g.listbox([\"one\", \"two\", \"three\"], listboxcallback)\n",
    "g.listbox([\"A\", \"B\", \"C\"], listboxcallback)\n",
    "def scalecallback(text):\n",
    "    g.status(\"scale value: '{0}'\".format(text))\n",
    "g.scale(\"Scale me!\", scalecallback)\n",
    "g.run()"
   ]
  },
  {
   "cell_type": "code",
   "execution_count": null,
   "metadata": {
    "collapsed": true
   },
   "outputs": [],
   "source": []
  }
 ],
 "metadata": {
  "kernelspec": {
   "display_name": "Python 2",
   "language": "python",
   "name": "python2"
  },
  "language_info": {
   "codemirror_mode": {
    "name": "ipython",
    "version": 2
   },
   "file_extension": ".py",
   "mimetype": "text/x-python",
   "name": "python",
   "nbconvert_exporter": "python",
   "pygments_lexer": "ipython2",
   "version": "2.7.10"
  }
 },
 "nbformat": 4,
 "nbformat_minor": 0
}
