{
 "cells": [
  {
   "cell_type": "code",
   "execution_count": 5,
   "metadata": {
    "collapsed": true
   },
   "outputs": [],
   "source": [
    "import ConfigParser\n",
    "from TwitterAPI import TwitterAPI"
   ]
  },
  {
   "cell_type": "code",
   "execution_count": 6,
   "metadata": {
    "collapsed": true
   },
   "outputs": [],
   "source": [
    "def get_twitter(config_file):\n",
    "    \"\"\" Read the config_file and construct an instance of TwitterAPI.\n",
    "    Args:\n",
    "      config_file ... A config file in ConfigParser format with Twitter credentials\n",
    "    Returns:\n",
    "      An instance of TwitterAPI.\n",
    "    \"\"\"\n",
    "    config = ConfigParser.ConfigParser()\n",
    "    config.read(config_file)\n",
    "    twitter = TwitterAPI(\n",
    "                   config.get('twitter', 'consumer_key'),\n",
    "                   config.get('twitter', 'consumer_secret'),\n",
    "                   config.get('twitter', 'access_token'),\n",
    "                   config.get('twitter', 'access_token_secret'))\n",
    "    return twitter"
   ]
  },
  {
   "cell_type": "code",
   "execution_count": 7,
   "metadata": {
    "collapsed": false
   },
   "outputs": [],
   "source": [
    "def robust_request(twitter, resource, params, max_tries=5):\n",
    "    \"\"\" If a Twitter request fails, sleep for 15 minutes.\n",
    "    Do this at most max_tries times before quitting.\n",
    "    Args:\n",
    "      twitter .... A TwitterAPI object.\n",
    "      resource ... A resource string to request.\n",
    "      params ..... A parameter dictionary for the request.\n",
    "      max_tries .. The maximum number of tries to attempt.\n",
    "    Returns:\n",
    "      A TwitterResponse object, or None if failed.\n",
    "    \"\"\"\n",
    "    for i in range(max_tries):\n",
    "        request = twitter.request(resource, params)\n",
    "        if request.status_code == 200:\n",
    "            return request\n",
    "        else:\n",
    "            print >> sys.stderr, 'Got error:', request.text, '\\nsleeping for 15 minutes.'\n",
    "            sys.stderr.flush()\n",
    "            time.sleep(60 * 15)\n",
    "\n",
    "twitter = get_twitter('twitter.cfg')"
   ]
  },
  {
   "cell_type": "code",
   "execution_count": 21,
   "metadata": {
    "collapsed": false
   },
   "outputs": [
    {
     "name": "stdout",
     "output_type": "stream",
     "text": [
      "fetched 10 tweets\n"
     ]
    }
   ],
   "source": [
    "request = robust_request(twitter, 'search/tweets', {'q': \"Hiring, software, developer, chicago\", 'count': '10'})\n",
    "tweets = [t for t in request]\n",
    "print 'fetched %d tweets' % len(tweets)"
   ]
  },
  {
   "cell_type": "code",
   "execution_count": 22,
   "metadata": {
    "collapsed": false
   },
   "outputs": [
    {
     "name": "stdout",
     "output_type": "stream",
     "text": [
      "Want to work in #Chicago, IL? View our latest opening: https://t.co/QTREeyDCUh #IT #DePaulU #Job #Jobs #Hiring https://t.co/ImMJJdZat4\n",
      "\n",
      "Can you recommend anyone for this #IT #job? https://t.co/FxLOGOClTV #Chicago, Illinois #Hiring #CareerArc\n",
      "\n",
      "See our latest #Chicago, IL #job and click to apply: Software Developer - https://t.co/Utf5MPPqli #IT #Hiring #CareerArc\n",
      "\n",
      "See our latest #Chicago, IL #job and click to apply: Software Developer - https://t.co/DbYQTjFmJe #IT #Hiring #CareerArc\n",
      "\n",
      "Now hiring for: Ruby Software Developer in Chicago, IL https://t.co/wIQx7CaRWO #job\n",
      "\n",
      "We're #hiring! Read about our latest #job opening here: Software Developer - https://t.co/hmI9PtvVQD #RHTechJobs #Chicago, IL #IT\n",
      "\n",
      "Want to work in #Chicago, IL? View our latest opening: https://t.co/K2lHZZGmOX #IT #Job #Jobs #Hiring #CareerArc\n",
      "\n",
      "RT https://t.co/WPP0q3FUHv tmj_chi_it : Want to work at Oracle? We're #hiring in #Chicago, IL! Click for details: https://t.co/5XXZnsbfR0…\n",
      "\n",
      "Want to work at Oracle? We're #hiring in #Chicago, IL! Click for details: https://t.co/bVv1QfvZ9S #IT #Job #Jobs #CareerArc\n",
      "\n",
      "Software Developers (Remote): Location : Chicago, IL US Company: CGI… https://t.co/w4fDyR9QIP #Hiring #Careers\n"
     ]
    }
   ],
   "source": [
    "# Print 10 tweets.\n",
    "text = [t['text'] for t in tweets]\n",
    "print '\\n\\n'.join(text[:1000])"
   ]
  },
  {
   "cell_type": "code",
   "execution_count": null,
   "metadata": {
    "collapsed": true
   },
   "outputs": [],
   "source": []
  }
 ],
 "metadata": {
  "kernelspec": {
   "display_name": "Python 2",
   "language": "python",
   "name": "python2"
  },
  "language_info": {
   "codemirror_mode": {
    "name": "ipython",
    "version": 2
   },
   "file_extension": ".py",
   "mimetype": "text/x-python",
   "name": "python",
   "nbconvert_exporter": "python",
   "pygments_lexer": "ipython2",
   "version": "2.7.10"
  }
 },
 "nbformat": 4,
 "nbformat_minor": 0
}
